{
  "nbformat": 4,
  "nbformat_minor": 0,
  "metadata": {
    "colab": {
      "name": "Linear Regression Using Normal Equation and Gradient Descent.ipynb",
      "provenance": []
    },
    "kernelspec": {
      "name": "python3",
      "display_name": "Python 3"
    }
  },
  "cells": [
    {
      "cell_type": "markdown",
      "metadata": {
        "id": "cU7jnOFRWPmE",
        "colab_type": "text"
      },
      "source": [
        "# Linear Regression Using Normal Equation"
      ]
    },
    {
      "cell_type": "code",
      "metadata": {
        "id": "8gvHWAAvWHp-",
        "colab_type": "code",
        "colab": {
          "base_uri": "https://localhost:8080/",
          "height": 119
        },
        "outputId": "741ace27-e5be-439e-a9d7-15f878cff759"
      },
      "source": [
        "import numpy as np\n",
        "import math\n",
        "import matplotlib.pyplot as plt\n",
        "from numpy import linalg as LA\n",
        "\n",
        "# Data Points\n",
        "X = np.array([[1,-1],\n",
        "              [1,1],\n",
        "              [1,2]])    # X = m x (1+d) where d=1\n",
        "Y = np.array([[7],\n",
        "              [7],\n",
        "              [21]])     # Y = m x 1\n",
        "Theta = np.zeros(shape = (2,1),dtype=np.int)  # Theta = (d+1) x 1\n",
        "\n",
        "print(\"X Shape = {}\".format(X.shape))\n",
        "print(\"Y Shape = {}\".format(Y.shape))\n",
        "print(\"Theta Shape = {}\".format(Theta.shape)) \n",
        "\n",
        "# Analytical Method with Normal Equation\n",
        "Theta_Opt = np.matmul(np.matmul(np.linalg.inv(np.matmul(X.T,X)),X.T),Y)  #Theta_Opt = inv(X^T*X)*X^T*Y\n",
        "\n",
        "print(\"Optimal Theta = \\n{}\".format(Theta_Opt))"
      ],
      "execution_count": 1,
      "outputs": [
        {
          "output_type": "stream",
          "text": [
            "X Shape = (3, 2)\n",
            "Y Shape = (3, 1)\n",
            "Theta Shape = (2, 1)\n",
            "Optimal Theta = \n",
            "[[9.]\n",
            " [4.]]\n"
          ],
          "name": "stdout"
        }
      ]
    },
    {
      "cell_type": "markdown",
      "metadata": {
        "id": "ibWvDfM0WUel",
        "colab_type": "text"
      },
      "source": [
        "# Linear Regression Using Gradient Descent"
      ]
    },
    {
      "cell_type": "code",
      "metadata": {
        "id": "M0Oe5BwcWX4F",
        "colab_type": "code",
        "colab": {
          "base_uri": "https://localhost:8080/",
          "height": 381
        },
        "outputId": "e22c7157-aeae-41bf-ad6c-1afb3d5e9d8c"
      },
      "source": [
        "import numpy as np\n",
        "import math\n",
        "import matplotlib.pyplot as plt\n",
        "from numpy import linalg as LA\n",
        "\n",
        "# Data Points\n",
        "X = np.array([[1,-1],\n",
        "              [1,1],\n",
        "              [1,2]])         # X = m x (1+d) where d=1\n",
        "Y = np.array([[7],\n",
        "              [7],\n",
        "              [21]])          # Y = m x 1\n",
        "#Theta = np.random.rand(2,1)   # Theta = (d+1) x 1\n",
        "Theta = np.zeros(shape = (2,1),dtype=np.int)  # Theta = (d+1) x 1\n",
        "print(\"X Shape = {}\".format(X.shape))\n",
        "print(\"Y Shape = {}\".format(Y.shape))\n",
        "print(\"Theta Shape = {}\".format(Theta.shape)) \n",
        "\n",
        "# Parameters\n",
        "alpha = 0.02                                                          # Learning Rate\n",
        "Epsilon = 28                                                          # Convergence Boundary\n",
        "Loss_List = []\n",
        "Epochs = 0\n",
        "\n",
        "# Gradient Descent\n",
        "J = (1/2)*np.matmul((np.matmul(X,Theta)-Y).T,(np.matmul(X,Theta)-Y))    # Loss Function\n",
        "while (J>=Epsilon):\n",
        "  Grad_J = np.matmul(np.matmul(X.T,X),Theta)-np.matmul(X.T,Y)           # Gradient of Loss Function\n",
        "  Theta = Theta - alpha*Grad_J                                          # Weight Update Rule\n",
        "  J = (1/2)*np.matmul((np.matmul(X,Theta)-Y).T,(np.matmul(X,Theta)-Y))  # Loss Function\n",
        "  Loss_List.append(J[0])\n",
        "  Epochs += 1\n",
        "  #print(\"Epoch: {}, Loss: {}\".format(Epochs,J[0]))\n",
        "\n",
        "# Obtained Theta Value \n",
        "print(\"Optimal Theta = \\n{}\".format(Theta))\n",
        "\n",
        "# Plotting Loss Function Over Epoch\n",
        "Epoch_List = [i for i in range(1,Epochs+1,1)]\n",
        "plt.plot(Epoch_List,Loss_List)\n",
        "plt.xlabel(\"Epochs\")\n",
        "plt.ylabel(\"Loss(Theta)\")\n",
        "plt.show()"
      ],
      "execution_count": 2,
      "outputs": [
        {
          "output_type": "stream",
          "text": [
            "X Shape = (3, 2)\n",
            "Y Shape = (3, 1)\n",
            "Theta Shape = (2, 1)\n",
            "Optimal Theta = \n",
            "[[8.99999995]\n",
            " [4.00000003]]\n"
          ],
          "name": "stdout"
        },
        {
          "output_type": "display_data",
          "data": {
            "image/png": "[encoded data removed]",
            "text/plain": [
              "<Figure size 432x288 with 1 Axes>"
            ]
          },
          "metadata": {
            "tags": [],
            "needs_background": "light"
          }
        }
      ]
    },
    {
      "cell_type": "markdown",
      "metadata": {
        "id": "4BxTk-LIz8Uv",
        "colab_type": "text"
      },
      "source": [
        "# Plotting the Regression Line"
      ]
    },
    {
      "cell_type": "code",
      "metadata": {
        "id": "-a9TfwVvWdeh",
        "colab_type": "code",
        "colab": {
          "base_uri": "https://localhost:8080/",
          "height": 279
        },
        "outputId": "165543eb-7177-41db-b928-57594535c50b"
      },
      "source": [
        "x = np.linspace(-5,5,100)\n",
        "\n",
        "y_analytical = Theta_Opt[1]*x + Theta_Opt[1]         \n",
        "y_regression = Theta[1]*x + Theta[1]     \n",
        "\n",
        "plt.plot(x, y_analytical, 'blue', label='Y = 4X+9 (Normal Equation)')\n",
        "plt.plot(x, y_regression, 'green', label='Y = 4X+8.9 (Gradient Descent)')\n",
        "\n",
        "plt.scatter(X[:,1],Y,c='blue')\n",
        "\n",
        "plt.xlabel('X - Axis', color='black')\n",
        "plt.ylabel('Y - Axis', color='black')\n",
        "plt.legend(loc='upper center')\n",
        "plt.grid()\n",
        "\n",
        "plt.show()"
      ],
      "execution_count": 14,
      "outputs": [
        {
          "output_type": "display_data",
          "data": {
            "image/png": "[encoded data removed]",
            "text/plain": [
              "<Figure size 432x288 with 1 Axes>"
            ]
          },
          "metadata": {
            "tags": [],
            "needs_background": "light"
          }
        }
      ]
    }
  ]
}